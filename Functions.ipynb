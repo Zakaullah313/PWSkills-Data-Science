{
 "cells": [
  {
   "cell_type": "markdown",
   "id": "pEPcS6QaCVyy",
   "metadata": {
    "id": "pEPcS6QaCVyy"
   },
   "source": [
    "### Q1. Which keyword is used to create a function? Create a function to return a list of odd numbers in the range of 1 to 25.\n",
    "\n",
    "**Ans: def Keyword is used to create a function in Python.**\n"
   ]
  },
  {
   "cell_type": "code",
   "execution_count": 2,
   "id": "Qhil6p2ICllI",
   "metadata": {
    "colab": {
     "base_uri": "https://localhost:8080/"
    },
    "id": "Qhil6p2ICllI",
    "outputId": "a9c0620a-726e-4e21-8aff-d70f0841c9ae"
   },
   "outputs": [
    {
     "name": "stdout",
     "output_type": "stream",
     "text": [
      "List of odd numbers in the range of 1 to 25 is: \n",
      " [1, 3, 5, 7, 9, 11, 13, 15, 17, 19, 21, 23, 25].\n"
     ]
    }
   ],
   "source": [
    "# Function to return odd numbers:\n",
    "\n",
    "def odd_numbers(start, end):\n",
    "  \"\"\"Returns a list of odd numbers in the specified range.\"\"\"\n",
    "  odd_list = []\n",
    "  for num in range(start, end + 1):\n",
    "    if num % 2 != 0:\n",
    "      odd_list.append(num)\n",
    "  return odd_list\n",
    "\n",
    "# Example usage:\n",
    "result = odd_numbers(1, 25)\n",
    "print(f\"List of odd numbers in the range of 1 to 25 is: \\n {result}.\")"
   ]
  },
  {
   "cell_type": "markdown",
   "id": "Umu-iWkkD4WY",
   "metadata": {
    "id": "Umu-iWkkD4WY"
   },
   "source": [
    "This function takes two parameters, `start` and `end`, which represent the range of numbers to check. It iterates through the numbers in the range and appends odd numbers to a list. Finally, it returns the list of odd numbers."
   ]
  },
  {
   "cell_type": "markdown",
   "id": "rZYZd4A_ESDI",
   "metadata": {
    "id": "rZYZd4A_ESDI"
   },
   "source": [
    "### Q2. Why `*args`  and `**kwargs` is used in some functions? Create a function each for `*args` and `**kwargs` to demonstrate their use.\n",
    "\n",
    "\n",
    "\n",
    "\n",
    "**Ans:** `*args` and `**kwargs` are used in Python functions to allow for a variable number of arguments.\n",
    "\n",
    "`*args`:\n",
    "\n",
    "*  Collects positional arguments as a tuple.\n",
    "*  Can be used to pass an arbitrary number of arguments to a function.\n",
    "\n",
    "`**kwargs`:\n",
    "\n",
    "*  Collects keyword arguments as a dictionary.\n",
    "*  Can be used to pass an arbitrary number of keyword arguments to a function."
   ]
  },
  {
   "cell_type": "code",
   "execution_count": 6,
   "id": "onsOTWcrC-zv",
   "metadata": {
    "colab": {
     "base_uri": "https://localhost:8080/"
    },
    "id": "onsOTWcrC-zv",
    "outputId": "f57a9d73-156f-46c3-e44e-2bfee2861f2f"
   },
   "outputs": [
    {
     "name": "stdout",
     "output_type": "stream",
     "text": [
      "Numbers: (1, 2, 3, 4, 5)\n",
      "Sum of numbers: 15\n"
     ]
    }
   ],
   "source": [
    "# Example with *args\n",
    "\n",
    "def sum_numbers(*args):\n",
    "  print(f\"Numbers: {args}\")\n",
    "  \"\"\"Calculates the sum of all numbers in the arguments.\"\"\"\n",
    "  result = 0\n",
    "  for num in args:\n",
    "    result += num\n",
    "  return result\n",
    "\n",
    "# Example usage:\n",
    "sum_of_numbers = sum_numbers(1, 2, 3, 4, 5)\n",
    "print(f\"Sum of numbers: {sum_of_numbers}\")"
   ]
  },
  {
   "cell_type": "code",
   "execution_count": 7,
   "id": "Z5Qb0XvIGeDr",
   "metadata": {
    "colab": {
     "base_uri": "https://localhost:8080/"
    },
    "id": "Z5Qb0XvIGeDr",
    "outputId": "79136efb-b5dc-439a-f658-374de48507dc"
   },
   "outputs": [
    {
     "name": "stdout",
     "output_type": "stream",
     "text": [
      "name: Saif\n",
      "age: 20\n",
      "city: New York\n"
     ]
    }
   ],
   "source": [
    "# Example with *kwargs\n",
    "\n",
    "def person_info(**kwargs):\n",
    "  # print(kwargs)\n",
    "  \"\"\"Prints the given information about a person.\"\"\"\n",
    "  for key, value in kwargs.items():\n",
    "    print(f\"{key}: {value}\")\n",
    "\n",
    "# Example usage:\n",
    "person_info(name=\"Saif\", age=20, city=\"New York\")"
   ]
  },
  {
   "cell_type": "markdown",
   "id": "TUCa_gR5H1PD",
   "metadata": {
    "id": "TUCa_gR5H1PD"
   },
   "source": [
    "In the first example, the `sum_numbers` function uses `*args` to accept any number of numbers as arguments and calculate their sum. In the second example, the `person_info` function uses `**kwargs` to accept any number of keyword arguments representing information about a person and print them."
   ]
  },
  {
   "cell_type": "markdown",
   "id": "Ii1wIP4rH2KX",
   "metadata": {
    "id": "Ii1wIP4rH2KX"
   },
   "source": [
    "### Q3. What is an iterator in python? Name the method used to initialise the iterator object and the method used for iteration. Use these methods to print the first five elements of the given list [2, 4, 6, 8, 10, 12, 14, 16, 18, 20].\n",
    "\n",
    "**Ans: Iterator in Python:**\n",
    "\n",
    "An iterator is an object that allows you to iterate over elements of a collection sequentially. It provides a way to access each element of a collection one by one, without needing to know the entire collection in advance.\n",
    "\n",
    "**Methods:**\n",
    "\n",
    "1. `iter()`: This method is used to initialize an iterator object from an iterable.\n",
    "2. `next()`: This method is used to retrieve the next element from the iterator. If there are no more elements, it raises a `StopIteration` exception."
   ]
  },
  {
   "cell_type": "code",
   "execution_count": 8,
   "id": "TFrpKs3RHVg_",
   "metadata": {
    "colab": {
     "base_uri": "https://localhost:8080/"
    },
    "id": "TFrpKs3RHVg_",
    "outputId": "4ea61f12-b1fe-4bd3-b77c-a23501297894"
   },
   "outputs": [
    {
     "name": "stdout",
     "output_type": "stream",
     "text": [
      "2\n",
      "4\n",
      "6\n",
      "8\n",
      "10\n"
     ]
    }
   ],
   "source": [
    "# Printing the first five elements of a list:\n",
    "\n",
    "my_list = [2, 4, 6, 8, 10, 12, 14, 16, 18, 20]\n",
    "\n",
    "# Initialize the iterator\n",
    "my_iterator = iter(my_list)\n",
    "\n",
    "# Print the first five elements\n",
    "for i in range(5):\n",
    "  element = next(my_iterator)\n",
    "  print(element)"
   ]
  },
  {
   "cell_type": "markdown",
   "id": "K4PlhZ62JUn9",
   "metadata": {
    "id": "K4PlhZ62JUn9"
   },
   "source": [
    "In this code, the `iter()` method is used to create an iterator object from the `my_list` list. Then, a `for` loop is used to iterate over the first five elements using the `next()` method. The loop continues until the fifth element is printed or a `StopIteration` exception is raised."
   ]
  },
  {
   "cell_type": "markdown",
   "id": "AWDpdadnKN--",
   "metadata": {
    "id": "AWDpdadnKN--"
   },
   "source": [
    "### Q4. What is a generator function in python? Why yield keyword is used? Give an example of a generator function.\n",
    "\n",
    "**Ans: Generator Function in Python:**\n",
    "\n",
    "A generator function is a special type of function that returns an iterator. Instead of returning a single value, it yields a sequence of values one at a time using the yield keyword. This allows for efficient memory usage, especially when dealing with large datasets.\n",
    "\n",
    "**Why use the yield keyword?**\n",
    "\n",
    "*  **Lazy evaluation**: The yield keyword pauses the function's execution and returns the current value. When the function is called again, it resumes execution from the last yielded point, allowing for efficient memory management.\n",
    "*  **Creating iterators**: Generator functions are a convenient way to create iterators without explicitly defining an iterator class."
   ]
  },
  {
   "cell_type": "code",
   "execution_count": 20,
   "id": "ZO1kTm7pJOr1",
   "metadata": {
    "colab": {
     "base_uri": "https://localhost:8080/"
    },
    "id": "ZO1kTm7pJOr1",
    "outputId": "41515229-f0f3-4b12-f423-8658b8b90b3e"
   },
   "outputs": [
    {
     "name": "stdout",
     "output_type": "stream",
     "text": [
      "Fibonacci sequence:\n",
      "0\n",
      "1\n",
      "1\n",
      "2\n",
      "3\n",
      "5\n",
      "8\n",
      "13\n",
      "21\n",
      "34\n"
     ]
    }
   ],
   "source": [
    "# Example of a generator function:\n",
    "\n",
    "def fibonacci_sequence(n):\n",
    "  \"\"\"Generates the Fibonacci sequence up to the nth term.\"\"\"\n",
    "  a, b = 0, 1\n",
    "  for _ in range(n):\n",
    "    yield a\n",
    "    a, b = b, a + b\n",
    "\n",
    "# Example usage:\n",
    "fib_sequence = fibonacci_sequence(10)\n",
    "print(\"Fibonacci sequence:\")\n",
    "for num in fib_sequence:\n",
    "  print(num)"
   ]
  },
  {
   "cell_type": "markdown",
   "id": "ajyIVTyrMcUq",
   "metadata": {
    "id": "ajyIVTyrMcUq"
   },
   "source": [
    "In this example, the `fibonacci_sequence` function generates the Fibonacci sequence up to the nth term. The `yield` keyword is used to return each Fibonacci number one at a time. This avoids calculating all Fibonacci numbers upfront, making it more efficient for large values of `n`."
   ]
  },
  {
   "cell_type": "markdown",
   "id": "z1p6IPUmMuzl",
   "metadata": {
    "id": "z1p6IPUmMuzl"
   },
   "source": [
    "### Q5. Create a generator function for prime numbers less than 1000. Use the next() method to print the first 20 prime numbers."
   ]
  },
  {
   "cell_type": "code",
   "execution_count": 9,
   "id": "u-ZDYGkTLZv-",
   "metadata": {
    "colab": {
     "base_uri": "https://localhost:8080/"
    },
    "id": "u-ZDYGkTLZv-",
    "outputId": "4ad050a1-fed7-430b-b57a-a3c353766b85"
   },
   "outputs": [
    {
     "name": "stdout",
     "output_type": "stream",
     "text": [
      "3\n",
      "5\n",
      "7\n",
      "11\n",
      "13\n",
      "17\n",
      "19\n",
      "23\n",
      "29\n",
      "31\n",
      "37\n",
      "41\n",
      "43\n",
      "47\n",
      "53\n",
      "59\n",
      "61\n",
      "67\n",
      "71\n",
      "73\n"
     ]
    }
   ],
   "source": [
    "def prime_numbers():\n",
    "  \"\"\"Generates prime numbers less than 1000.\"\"\"\n",
    "  primes = [2]\n",
    "  num = 3\n",
    "  while num < 1000:\n",
    "    is_prime = True\n",
    "    for prime in primes:\n",
    "      if num % prime == 0:\n",
    "        is_prime = False\n",
    "        break\n",
    "    if is_prime:\n",
    "      primes.append(num)\n",
    "      yield num\n",
    "    num += 2\n",
    "\n",
    "# Create the generator\n",
    "prime_gen = prime_numbers()\n",
    "\n",
    "# Print the first 20 prime numbers\n",
    "for _ in range(20):\n",
    "  prime = next(prime_gen)\n",
    "  print(prime)"
   ]
  },
  {
   "cell_type": "markdown",
   "id": "x3PdJpwcNh6m",
   "metadata": {
    "id": "x3PdJpwcNh6m"
   },
   "source": [
    "This code defines a generator function `prime_numbers()` that generates prime numbers less than 1000. It uses a simple algorithm to check if a number is prime by dividing it by all previously found prime numbers. If a number is prime, it's added to the list of primes and yielded.\n",
    "\n",
    "The code then creates a generator object prime_gen from the prime_numbers() function. Finally, a for loop iterates 20 times, using the next() method to print the first 20 prime numbers generated by the generator."
   ]
  },
  {
   "cell_type": "code",
   "execution_count": null,
   "id": "KfO70AHfQWzh",
   "metadata": {
    "id": "KfO70AHfQWzh"
   },
   "outputs": [],
   "source": []
  }
 ],
 "metadata": {
  "colab": {
   "provenance": []
  },
  "kernelspec": {
   "display_name": "Python 3 (ipykernel)",
   "language": "python",
   "name": "python3"
  },
  "language_info": {
   "codemirror_mode": {
    "name": "ipython",
    "version": 3
   },
   "file_extension": ".py",
   "mimetype": "text/x-python",
   "name": "python",
   "nbconvert_exporter": "python",
   "pygments_lexer": "ipython3",
   "version": "3.11.2"
  }
 },
 "nbformat": 4,
 "nbformat_minor": 5
}
